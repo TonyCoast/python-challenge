{
 "cells": [
  {
   "cell_type": "code",
   "execution_count": 141,
   "id": "ae0db138",
   "metadata": {},
   "outputs": [],
   "source": [
    "import pandas as pd\n",
    "import os"
   ]
  },
  {
   "cell_type": "code",
   "execution_count": 144,
   "id": "fd9e662e",
   "metadata": {},
   "outputs": [],
   "source": [
    "csv_path = \"Resources/election_data.csv\""
   ]
  },
  {
   "cell_type": "code",
   "execution_count": 145,
   "id": "6148dd14",
   "metadata": {},
   "outputs": [],
   "source": [
    "pypoll_df = pd.read_csv(csv_path, encoding=\"utf-8\")\n",
    "\n",
    "#pypoll_df.head()"
   ]
  },
  {
   "cell_type": "code",
   "execution_count": 104,
   "id": "3d553714",
   "metadata": {},
   "outputs": [
    {
     "name": "stdout",
     "output_type": "stream",
     "text": [
      "Election Results\n"
     ]
    }
   ],
   "source": [
    "print(\"Election Results\")"
   ]
  },
  {
   "cell_type": "code",
   "execution_count": 105,
   "id": "9d5fa7fb",
   "metadata": {},
   "outputs": [
    {
     "name": "stdout",
     "output_type": "stream",
     "text": [
      "----------------\n"
     ]
    }
   ],
   "source": [
    "print(\"----------------\")"
   ]
  },
  {
   "cell_type": "code",
   "execution_count": 106,
   "id": "28537882",
   "metadata": {},
   "outputs": [
    {
     "name": "stdout",
     "output_type": "stream",
     "text": [
      "Total Votes: 369711\n"
     ]
    }
   ],
   "source": [
    "total = len(pypoll_df)\n",
    "print(\"Total Votes: \"+ str(total))"
   ]
  },
  {
   "cell_type": "code",
   "execution_count": 107,
   "id": "9fd529f7",
   "metadata": {},
   "outputs": [
    {
     "name": "stdout",
     "output_type": "stream",
     "text": [
      "----------------\n"
     ]
    }
   ],
   "source": [
    "print(\"----------------\")"
   ]
  },
  {
   "cell_type": "code",
   "execution_count": 108,
   "id": "c28af221",
   "metadata": {},
   "outputs": [],
   "source": [
    "#candidates = pypoll_df.Candidate.unique()\n",
    "#print(candidates)"
   ]
  },
  {
   "cell_type": "code",
   "execution_count": 109,
   "id": "8f847683",
   "metadata": {},
   "outputs": [],
   "source": [
    "#pypoll_df[\"Candidate\"].value_counts()"
   ]
  },
  {
   "cell_type": "code",
   "execution_count": 110,
   "id": "36a99f12",
   "metadata": {},
   "outputs": [],
   "source": [
    "#pypoll_df.sort_values(\"Candidate\").head()"
   ]
  },
  {
   "cell_type": "code",
   "execution_count": 111,
   "id": "ce4e6a00",
   "metadata": {},
   "outputs": [],
   "source": [
    "stockham_df=pd.DataFrame(pypoll_df.loc[pypoll_df[\"Candidate\"]==\"Charles Casper Stockham\",:])"
   ]
  },
  {
   "cell_type": "code",
   "execution_count": 112,
   "id": "ac059642",
   "metadata": {},
   "outputs": [],
   "source": [
    "#stockham_df.info()"
   ]
  },
  {
   "cell_type": "code",
   "execution_count": 113,
   "id": "140c0d42",
   "metadata": {},
   "outputs": [],
   "source": [
    "#stockham_count = stockham_df[\"Ballot ID\"]\n",
    "#stockham_count.count()"
   ]
  },
  {
   "cell_type": "code",
   "execution_count": 114,
   "id": "7eb6f4f7",
   "metadata": {},
   "outputs": [],
   "source": [
    "stock_count = stockham_count.count()"
   ]
  },
  {
   "cell_type": "code",
   "execution_count": 115,
   "id": "1d3323c1",
   "metadata": {},
   "outputs": [],
   "source": [
    "stockham_perc = stockham_count.count() / total * 100"
   ]
  },
  {
   "cell_type": "code",
   "execution_count": 116,
   "id": "e1ca7e3a",
   "metadata": {},
   "outputs": [],
   "source": [
    "#stockham_perc"
   ]
  },
  {
   "cell_type": "code",
   "execution_count": 117,
   "id": "d1c32a6b",
   "metadata": {},
   "outputs": [],
   "source": [
    "stockham_perc2 = round(stockham_perc,3)"
   ]
  },
  {
   "cell_type": "code",
   "execution_count": 118,
   "id": "70b3a830",
   "metadata": {},
   "outputs": [],
   "source": [
    "#stockham_perc2"
   ]
  },
  {
   "cell_type": "code",
   "execution_count": 119,
   "id": "cc3e2693",
   "metadata": {},
   "outputs": [
    {
     "name": "stdout",
     "output_type": "stream",
     "text": [
      "Charles Casper Stockham:  23.049%  85213\n"
     ]
    }
   ],
   "source": [
    "print(\"Charles Casper Stockham:  \" + str(stockham_perc2) + \"%  \"  + (str(stock_count)))"
   ]
  },
  {
   "cell_type": "code",
   "execution_count": 120,
   "id": "3d16347d",
   "metadata": {},
   "outputs": [],
   "source": [
    "degette_df=pd.DataFrame(pypoll_df.loc[pypoll_df[\"Candidate\"]==\"Diana DeGette\",:])"
   ]
  },
  {
   "cell_type": "code",
   "execution_count": 121,
   "id": "0f3c1123",
   "metadata": {},
   "outputs": [],
   "source": [
    "#degette_df.head()"
   ]
  },
  {
   "cell_type": "code",
   "execution_count": 122,
   "id": "a030dcdb",
   "metadata": {},
   "outputs": [],
   "source": [
    "degette_count = degette_df[\"Ballot ID\"].count()"
   ]
  },
  {
   "cell_type": "code",
   "execution_count": 123,
   "id": "db6f82c7",
   "metadata": {},
   "outputs": [],
   "source": [
    "#degette_count"
   ]
  },
  {
   "cell_type": "code",
   "execution_count": 124,
   "id": "6d22010e",
   "metadata": {},
   "outputs": [],
   "source": [
    "degette_perc = degette_count / total * 100"
   ]
  },
  {
   "cell_type": "code",
   "execution_count": 125,
   "id": "58a28ab2",
   "metadata": {},
   "outputs": [],
   "source": [
    "degette_perc2 = round(degette_perc,3)"
   ]
  },
  {
   "cell_type": "code",
   "execution_count": 126,
   "id": "73e52fe1",
   "metadata": {},
   "outputs": [
    {
     "name": "stdout",
     "output_type": "stream",
     "text": [
      "Diana DeGette:  73.812%  272892\n"
     ]
    }
   ],
   "source": [
    "print(\"Diana DeGette:  \" + str(degette_perc2) + \"%  \"  + (str(degette_count)))"
   ]
  },
  {
   "cell_type": "code",
   "execution_count": 127,
   "id": "15309d56",
   "metadata": {},
   "outputs": [],
   "source": [
    "doane_df=pd.DataFrame(pypoll_df.loc[pypoll_df[\"Candidate\"]==\"Raymon Anthony Doane\",:])"
   ]
  },
  {
   "cell_type": "code",
   "execution_count": 128,
   "id": "47434c8f",
   "metadata": {},
   "outputs": [],
   "source": [
    "#doane_df.head()"
   ]
  },
  {
   "cell_type": "code",
   "execution_count": 129,
   "id": "968995b7",
   "metadata": {},
   "outputs": [],
   "source": [
    "doane_count = doane_df[\"Ballot ID\"].count()"
   ]
  },
  {
   "cell_type": "code",
   "execution_count": 130,
   "id": "5f437a09",
   "metadata": {},
   "outputs": [],
   "source": [
    "#doane_count"
   ]
  },
  {
   "cell_type": "code",
   "execution_count": 131,
   "id": "1a6ef2cd",
   "metadata": {},
   "outputs": [],
   "source": [
    "doane_perc = doane_count / total * 100"
   ]
  },
  {
   "cell_type": "code",
   "execution_count": 132,
   "id": "5653aec6",
   "metadata": {},
   "outputs": [],
   "source": [
    "doane_perc2 = round(doane_perc,3)"
   ]
  },
  {
   "cell_type": "code",
   "execution_count": 133,
   "id": "a7760f3d",
   "metadata": {},
   "outputs": [
    {
     "name": "stdout",
     "output_type": "stream",
     "text": [
      "Raymon Anthony Doane:  3.139%  11606\n"
     ]
    }
   ],
   "source": [
    "print(\"Raymon Anthony Doane:  \" + str(doane_perc2) + \"%  \"  + (str(doane_count)))"
   ]
  },
  {
   "cell_type": "code",
   "execution_count": 134,
   "id": "53521ddf",
   "metadata": {},
   "outputs": [
    {
     "name": "stdout",
     "output_type": "stream",
     "text": [
      "----------------\n"
     ]
    }
   ],
   "source": [
    "print(\"----------------\")"
   ]
  },
  {
   "cell_type": "code",
   "execution_count": 135,
   "id": "ce652b8c",
   "metadata": {},
   "outputs": [
    {
     "name": "stdout",
     "output_type": "stream",
     "text": [
      "Winner: Diane Degette\n"
     ]
    }
   ],
   "source": [
    "if (doane_count > degette_count) & (doane_count > stock_count):\n",
    "    print(\"Winner: Raymon Anthony Doane\")\n",
    "elif (stock_count > degette_count) & (stock_count > degette_count):\n",
    "    print(\"Winner: Charles Casper Stockham\")\n",
    "else:\n",
    "    print(\"Winner: Diane Degette\")"
   ]
  },
  {
   "cell_type": "code",
   "execution_count": 136,
   "id": "a527aefe",
   "metadata": {},
   "outputs": [
    {
     "name": "stdout",
     "output_type": "stream",
     "text": [
      "----------------\n"
     ]
    }
   ],
   "source": [
    "print(\"----------------\")"
   ]
  },
  {
   "cell_type": "code",
   "execution_count": null,
   "id": "566a7e68",
   "metadata": {},
   "outputs": [],
   "source": [
    "with open('readme.txt', 'w') as f:\n",
    "    f.write('readme')"
   ]
  }
 ],
 "metadata": {
  "kernelspec": {
   "display_name": "Python 3 (ipykernel)",
   "language": "python",
   "name": "python3"
  },
  "language_info": {
   "codemirror_mode": {
    "name": "ipython",
    "version": 3
   },
   "file_extension": ".py",
   "mimetype": "text/x-python",
   "name": "python",
   "nbconvert_exporter": "python",
   "pygments_lexer": "ipython3",
   "version": "3.9.13"
  }
 },
 "nbformat": 4,
 "nbformat_minor": 5
}
