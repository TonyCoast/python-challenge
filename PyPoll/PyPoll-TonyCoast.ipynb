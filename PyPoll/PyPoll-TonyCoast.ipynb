{
 "cells": [
  {
   "cell_type": "code",
   "execution_count": 141,
   "id": "569f28ac",
   "metadata": {},
   "outputs": [],
   "source": [
    "import pandas as pd\n",
    "import os"
   ]
  },
  {
   "cell_type": "code",
   "execution_count": 144,
   "id": "b77a84e3",
   "metadata": {},
   "outputs": [],
   "source": [
    "csv_path = \"Resources/election_data.csv\""
   ]
  },
  {
   "cell_type": "code",
   "execution_count": 145,
   "id": "c2d2c33e",
   "metadata": {},
   "outputs": [],
   "source": [
    "pypoll_df = pd.read_csv(csv_path, encoding=\"utf-8\")\n",
    "\n",
    "#pypoll_df.head()"
   ]
  },
  {
   "cell_type": "code",
   "execution_count": 104,
   "id": "c5f5b6e9",
   "metadata": {},
   "outputs": [
    {
     "name": "stdout",
     "output_type": "stream",
     "text": [
      "Election Results\n"
     ]
    }
   ],
   "source": [
    "print(\"Election Results\")"
   ]
  },
  {
   "cell_type": "code",
   "execution_count": 105,
   "id": "51e148a4",
   "metadata": {},
   "outputs": [
    {
     "name": "stdout",
     "output_type": "stream",
     "text": [
      "----------------\n"
     ]
    }
   ],
   "source": [
    "print(\"----------------\")"
   ]
  },
  {
   "cell_type": "code",
   "execution_count": 106,
   "id": "2d730645",
   "metadata": {},
   "outputs": [
    {
     "name": "stdout",
     "output_type": "stream",
     "text": [
      "Total Votes: 369711\n"
     ]
    }
   ],
   "source": [
    "total = len(pypoll_df)\n",
    "print(\"Total Votes: \"+ str(total))"
   ]
  },
  {
   "cell_type": "code",
   "execution_count": 107,
   "id": "92425225",
   "metadata": {},
   "outputs": [
    {
     "name": "stdout",
     "output_type": "stream",
     "text": [
      "----------------\n"
     ]
    }
   ],
   "source": [
    "print(\"----------------\")"
   ]
  },
  {
   "cell_type": "code",
   "execution_count": 108,
   "id": "994fa5ba",
   "metadata": {},
   "outputs": [],
   "source": [
    "#candidates = pypoll_df.Candidate.unique()\n",
    "#print(candidates)"
   ]
  },
  {
   "cell_type": "code",
   "execution_count": 109,
   "id": "3097fdf9",
   "metadata": {},
   "outputs": [],
   "source": [
    "#pypoll_df[\"Candidate\"].value_counts()"
   ]
  },
  {
   "cell_type": "code",
   "execution_count": 110,
   "id": "21ea4389",
   "metadata": {},
   "outputs": [],
   "source": [
    "#pypoll_df.sort_values(\"Candidate\").head()"
   ]
  },
  {
   "cell_type": "code",
   "execution_count": 111,
   "id": "5d2b3dff",
   "metadata": {},
   "outputs": [],
   "source": [
    "stockham_df=pd.DataFrame(pypoll_df.loc[pypoll_df[\"Candidate\"]==\"Charles Casper Stockham\",:])"
   ]
  },
  {
   "cell_type": "code",
   "execution_count": 112,
   "id": "9098fc78",
   "metadata": {},
   "outputs": [],
   "source": [
    "#stockham_df.info()"
   ]
  },
  {
   "cell_type": "code",
   "execution_count": 113,
   "id": "5a129891",
   "metadata": {},
   "outputs": [],
   "source": [
    "#stockham_count = stockham_df[\"Ballot ID\"]\n",
    "#stockham_count.count()"
   ]
  },
  {
   "cell_type": "code",
   "execution_count": 114,
   "id": "170f3eaa",
   "metadata": {},
   "outputs": [],
   "source": [
    "stock_count = stockham_count.count()"
   ]
  },
  {
   "cell_type": "code",
   "execution_count": 115,
   "id": "044a3ab5",
   "metadata": {},
   "outputs": [],
   "source": [
    "stockham_perc = stockham_count.count() / total * 100"
   ]
  },
  {
   "cell_type": "code",
   "execution_count": 116,
   "id": "8e2e68f2",
   "metadata": {},
   "outputs": [],
   "source": [
    "#stockham_perc"
   ]
  },
  {
   "cell_type": "code",
   "execution_count": 117,
   "id": "c3b46375",
   "metadata": {},
   "outputs": [],
   "source": [
    "stockham_perc2 = round(stockham_perc,3)"
   ]
  },
  {
   "cell_type": "code",
   "execution_count": 118,
   "id": "8fffca08",
   "metadata": {},
   "outputs": [],
   "source": [
    "#stockham_perc2"
   ]
  },
  {
   "cell_type": "code",
   "execution_count": 119,
   "id": "db97ddf0",
   "metadata": {},
   "outputs": [
    {
     "name": "stdout",
     "output_type": "stream",
     "text": [
      "Charles Casper Stockham:  23.049%  85213\n"
     ]
    }
   ],
   "source": [
    "print(\"Charles Casper Stockham:  \" + str(stockham_perc2) + \"%  \"  + (str(stock_count)))"
   ]
  },
  {
   "cell_type": "code",
   "execution_count": 120,
   "id": "d809bbd3",
   "metadata": {},
   "outputs": [],
   "source": [
    "degette_df=pd.DataFrame(pypoll_df.loc[pypoll_df[\"Candidate\"]==\"Diana DeGette\",:])"
   ]
  },
  {
   "cell_type": "code",
   "execution_count": 121,
   "id": "857786c9",
   "metadata": {},
   "outputs": [],
   "source": [
    "#degette_df.head()"
   ]
  },
  {
   "cell_type": "code",
   "execution_count": 122,
   "id": "93ef6e40",
   "metadata": {},
   "outputs": [],
   "source": [
    "degette_count = degette_df[\"Ballot ID\"].count()"
   ]
  },
  {
   "cell_type": "code",
   "execution_count": 123,
   "id": "87e781dd",
   "metadata": {},
   "outputs": [],
   "source": [
    "#degette_count"
   ]
  },
  {
   "cell_type": "code",
   "execution_count": 124,
   "id": "839a1ceb",
   "metadata": {},
   "outputs": [],
   "source": [
    "degette_perc = degette_count / total * 100"
   ]
  },
  {
   "cell_type": "code",
   "execution_count": 125,
   "id": "606012a2",
   "metadata": {},
   "outputs": [],
   "source": [
    "degette_perc2 = round(degette_perc,3)"
   ]
  },
  {
   "cell_type": "code",
   "execution_count": 126,
   "id": "de3a848e",
   "metadata": {},
   "outputs": [
    {
     "name": "stdout",
     "output_type": "stream",
     "text": [
      "Diana DeGette:  73.812%  272892\n"
     ]
    }
   ],
   "source": [
    "print(\"Diana DeGette:  \" + str(degette_perc2) + \"%  \"  + (str(degette_count)))"
   ]
  },
  {
   "cell_type": "code",
   "execution_count": 127,
   "id": "27fd24c8",
   "metadata": {},
   "outputs": [],
   "source": [
    "doane_df=pd.DataFrame(pypoll_df.loc[pypoll_df[\"Candidate\"]==\"Raymon Anthony Doane\",:])"
   ]
  },
  {
   "cell_type": "code",
   "execution_count": 128,
   "id": "829337d0",
   "metadata": {},
   "outputs": [],
   "source": [
    "#doane_df.head()"
   ]
  },
  {
   "cell_type": "code",
   "execution_count": 129,
   "id": "00069933",
   "metadata": {},
   "outputs": [],
   "source": [
    "doane_count = doane_df[\"Ballot ID\"].count()"
   ]
  },
  {
   "cell_type": "code",
   "execution_count": 130,
   "id": "ae40780b",
   "metadata": {},
   "outputs": [],
   "source": [
    "#doane_count"
   ]
  },
  {
   "cell_type": "code",
   "execution_count": 131,
   "id": "71f69afb",
   "metadata": {},
   "outputs": [],
   "source": [
    "doane_perc = doane_count / total * 100"
   ]
  },
  {
   "cell_type": "code",
   "execution_count": 132,
   "id": "af416713",
   "metadata": {},
   "outputs": [],
   "source": [
    "doane_perc2 = round(doane_perc,3)"
   ]
  },
  {
   "cell_type": "code",
   "execution_count": 133,
   "id": "8927c274",
   "metadata": {},
   "outputs": [
    {
     "name": "stdout",
     "output_type": "stream",
     "text": [
      "Raymon Anthony Doane:  3.139%  11606\n"
     ]
    }
   ],
   "source": [
    "print(\"Raymon Anthony Doane:  \" + str(doane_perc2) + \"%  \"  + (str(doane_count)))"
   ]
  },
  {
   "cell_type": "code",
   "execution_count": 134,
   "id": "e69cb3cd",
   "metadata": {},
   "outputs": [
    {
     "name": "stdout",
     "output_type": "stream",
     "text": [
      "----------------\n"
     ]
    }
   ],
   "source": [
    "print(\"----------------\")"
   ]
  },
  {
   "cell_type": "code",
   "execution_count": 135,
   "id": "c40cbe0b",
   "metadata": {},
   "outputs": [
    {
     "name": "stdout",
     "output_type": "stream",
     "text": [
      "Winner: Diane Degette\n"
     ]
    }
   ],
   "source": [
    "if (doane_count > degette_count) & (doane_count > stock_count):\n",
    "    print(\"Winner: Raymon Anthony Doane\")\n",
    "elif (stock_count > degette_count) & (stock_count > degette_count):\n",
    "    print(\"Winner: Charles Casper Stockham\")\n",
    "else:\n",
    "    print(\"Winner: Diane Degette\")"
   ]
  },
  {
   "cell_type": "code",
   "execution_count": 146,
   "id": "b8ea86d7",
   "metadata": {},
   "outputs": [
    {
     "name": "stdout",
     "output_type": "stream",
     "text": [
      "----------------\n"
     ]
    }
   ],
   "source": [
    "print(\"----------------\")"
   ]
  },
  {
   "cell_type": "code",
   "execution_count": 147,
   "id": "638c5ea9",
   "metadata": {},
   "outputs": [],
   "source": [
    "with open('readme.txt', 'w') as f:\n",
    "    f.write('readme')"
   ]
  },
  {
   "cell_type": "code",
   "execution_count": null,
   "id": "606103e0",
   "metadata": {},
   "outputs": [],
   "source": []
  }
 ],
 "metadata": {
  "kernelspec": {
   "display_name": "Python 3 (ipykernel)",
   "language": "python",
   "name": "python3"
  },
  "language_info": {
   "codemirror_mode": {
    "name": "ipython",
    "version": 3
   },
   "file_extension": ".py",
   "mimetype": "text/x-python",
   "name": "python",
   "nbconvert_exporter": "python",
   "pygments_lexer": "ipython3",
   "version": "3.9.13"
  }
 },
 "nbformat": 4,
 "nbformat_minor": 5
}
