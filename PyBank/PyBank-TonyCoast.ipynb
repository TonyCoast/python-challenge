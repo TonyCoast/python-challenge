{
 "cells": [
  {
   "cell_type": "code",
   "execution_count": 65,
   "id": "da20c25d",
   "metadata": {},
   "outputs": [],
   "source": [
    "import pandas as pd"
   ]
  },
  {
   "cell_type": "code",
   "execution_count": 66,
   "id": "b39c5e69",
   "metadata": {},
   "outputs": [],
   "source": [
    "csv_path = \"Resources/budget_data.csv\"\n"
   ]
  },
  {
   "cell_type": "code",
   "execution_count": 67,
   "id": "b497350d",
   "metadata": {},
   "outputs": [],
   "source": [
    "pybank_df = pd.read_csv(csv_path, encoding=\"utf-8\")\n",
    "\n",
    "#pybank_df.head()"
   ]
  },
  {
   "cell_type": "code",
   "execution_count": 68,
   "id": "0e46cc75",
   "metadata": {},
   "outputs": [
    {
     "name": "stdout",
     "output_type": "stream",
     "text": [
      "Financial Analysis\n"
     ]
    }
   ],
   "source": [
    "print(\"Financial Analysis\")"
   ]
  },
  {
   "cell_type": "code",
   "execution_count": 69,
   "id": "9cace820",
   "metadata": {},
   "outputs": [
    {
     "name": "stdout",
     "output_type": "stream",
     "text": [
      "------------------\n"
     ]
    }
   ],
   "source": [
    "print(\"------------------\")"
   ]
  },
  {
   "cell_type": "code",
   "execution_count": 70,
   "id": "10699eb1",
   "metadata": {},
   "outputs": [],
   "source": [
    "months = pybank_df[\"Profit/Losses\"].count()\n",
    "#months"
   ]
  },
  {
   "cell_type": "code",
   "execution_count": 71,
   "id": "4ff2beae",
   "metadata": {},
   "outputs": [
    {
     "name": "stdout",
     "output_type": "stream",
     "text": [
      "Total Months: 86\n"
     ]
    }
   ],
   "source": [
    "print(\"Total Months: \" + str(months))"
   ]
  },
  {
   "cell_type": "code",
   "execution_count": 72,
   "id": "84ad9dd1",
   "metadata": {},
   "outputs": [],
   "source": [
    "total = pybank_df[\"Profit/Losses\"].sum()\n",
    "#total"
   ]
  },
  {
   "cell_type": "code",
   "execution_count": 73,
   "id": "537436fa",
   "metadata": {},
   "outputs": [
    {
     "name": "stdout",
     "output_type": "stream",
     "text": [
      "Total:  $22564198\n"
     ]
    }
   ],
   "source": [
    "print(\"Total:  $\"+str(total))"
   ]
  },
  {
   "cell_type": "code",
   "execution_count": 74,
   "id": "3a8891ca",
   "metadata": {},
   "outputs": [],
   "source": [
    "#average = pybank_df[\"Profit/Losses\"].mean()\n"
   ]
  },
  {
   "cell_type": "code",
   "execution_count": 75,
   "id": "3f775172",
   "metadata": {},
   "outputs": [],
   "source": [
    "#first_day = pybank_df[1:2]\n"
   ]
  },
  {
   "cell_type": "code",
   "execution_count": 76,
   "id": "2106dff1",
   "metadata": {},
   "outputs": [],
   "source": [
    "#first_day2 = pybank_df.iloc[0:2]\n",
    "#first_day2 = pybank_df.loc[0:2]\n"
   ]
  },
  {
   "cell_type": "code",
   "execution_count": 77,
   "id": "6f2941b5",
   "metadata": {},
   "outputs": [],
   "source": [
    "best_df = pybank_df.sort_values(\"Profit/Losses\",ascending=False)\n",
    "#best_df"
   ]
  },
  {
   "cell_type": "code",
   "execution_count": 78,
   "id": "d856f0e9",
   "metadata": {},
   "outputs": [],
   "source": [
    "best_df = best_df.reset_index(drop=True)\n",
    "#best_df"
   ]
  },
  {
   "cell_type": "code",
   "execution_count": 79,
   "id": "05c5c020",
   "metadata": {},
   "outputs": [],
   "source": [
    "best_day = best_df.loc[0,:]\n",
    "#best_day"
   ]
  },
  {
   "cell_type": "code",
   "execution_count": 80,
   "id": "176805b2",
   "metadata": {},
   "outputs": [
    {
     "name": "stdout",
     "output_type": "stream",
     "text": [
      "Greatest Increase in ProfitsDate              Mar-13\n",
      "Profit/Losses    1141840\n",
      "Name: 0, dtype: object\n"
     ]
    }
   ],
   "source": [
    "print(\"Greatest Increase in Profits\" + str(best_day))"
   ]
  },
  {
   "cell_type": "code",
   "execution_count": 81,
   "id": "ca7446c4",
   "metadata": {},
   "outputs": [],
   "source": [
    "worst_day = best_df.loc[len(best_df)-1,:]\n",
    "#worst_day"
   ]
  },
  {
   "cell_type": "code",
   "execution_count": 82,
   "id": "ca06c5ad",
   "metadata": {},
   "outputs": [
    {
     "name": "stdout",
     "output_type": "stream",
     "text": [
      "Greaest Decrease in ProfitsDate               Dec-10\n",
      "Profit/Losses    -1194133\n",
      "Name: 85, dtype: object\n"
     ]
    }
   ],
   "source": [
    "print(\"Greaest Decrease in Profits\" + str(worst_day))"
   ]
  },
  {
   "cell_type": "code",
   "execution_count": 83,
   "id": "e0adcfc7",
   "metadata": {},
   "outputs": [],
   "source": [
    "with open('readme.txt', 'w') as f:\n",
    "    f.write('readme')"
   ]
  },
  {
   "cell_type": "code",
   "execution_count": null,
   "id": "c0ed6865",
   "metadata": {},
   "outputs": [],
   "source": []
  }
 ],
 "metadata": {
  "kernelspec": {
   "display_name": "Python 3 (ipykernel)",
   "language": "python",
   "name": "python3"
  },
  "language_info": {
   "codemirror_mode": {
    "name": "ipython",
    "version": 3
   },
   "file_extension": ".py",
   "mimetype": "text/x-python",
   "name": "python",
   "nbconvert_exporter": "python",
   "pygments_lexer": "ipython3",
   "version": "3.9.13"
  }
 },
 "nbformat": 4,
 "nbformat_minor": 5
}
