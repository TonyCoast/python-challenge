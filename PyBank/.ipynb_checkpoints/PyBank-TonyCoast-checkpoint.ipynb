{
 "cells": [
  {
   "cell_type": "code",
   "execution_count": 65,
   "id": "d4d0cefa",
   "metadata": {},
   "outputs": [],
   "source": [
    "import pandas as pd"
   ]
  },
  {
   "cell_type": "code",
   "execution_count": 66,
   "id": "7416c5ba",
   "metadata": {},
   "outputs": [],
   "source": [
    "csv_path = \"Resources/budget_data.csv\"\n"
   ]
  },
  {
   "cell_type": "code",
   "execution_count": 67,
   "id": "dfa7cda4",
   "metadata": {},
   "outputs": [],
   "source": [
    "pybank_df = pd.read_csv(csv_path, encoding=\"utf-8\")\n",
    "\n",
    "#pybank_df.head()"
   ]
  },
  {
   "cell_type": "code",
   "execution_count": 68,
   "id": "17bd3118",
   "metadata": {},
   "outputs": [
    {
     "name": "stdout",
     "output_type": "stream",
     "text": [
      "Financial Analysis\n"
     ]
    }
   ],
   "source": [
    "print(\"Financial Analysis\")"
   ]
  },
  {
   "cell_type": "code",
   "execution_count": 69,
   "id": "2a33463a",
   "metadata": {},
   "outputs": [
    {
     "name": "stdout",
     "output_type": "stream",
     "text": [
      "------------------\n"
     ]
    }
   ],
   "source": [
    "print(\"------------------\")"
   ]
  },
  {
   "cell_type": "code",
   "execution_count": 70,
   "id": "cdb5bb45",
   "metadata": {},
   "outputs": [],
   "source": [
    "months = pybank_df[\"Profit/Losses\"].count()\n",
    "#months"
   ]
  },
  {
   "cell_type": "code",
   "execution_count": 71,
   "id": "33d40661",
   "metadata": {},
   "outputs": [
    {
     "name": "stdout",
     "output_type": "stream",
     "text": [
      "Total Months: 86\n"
     ]
    }
   ],
   "source": [
    "print(\"Total Months: \" + str(months))"
   ]
  },
  {
   "cell_type": "code",
   "execution_count": 72,
   "id": "28f150fd",
   "metadata": {},
   "outputs": [],
   "source": [
    "total = pybank_df[\"Profit/Losses\"].sum()\n",
    "#total"
   ]
  },
  {
   "cell_type": "code",
   "execution_count": 73,
   "id": "3b0b6bc8",
   "metadata": {},
   "outputs": [
    {
     "name": "stdout",
     "output_type": "stream",
     "text": [
      "Total:  $22564198\n"
     ]
    }
   ],
   "source": [
    "print(\"Total:  $\"+str(total))"
   ]
  },
  {
   "cell_type": "code",
   "execution_count": 74,
   "id": "c07645a4",
   "metadata": {},
   "outputs": [],
   "source": [
    "#average = pybank_df[\"Profit/Losses\"].mean()\n"
   ]
  },
  {
   "cell_type": "code",
   "execution_count": 75,
   "id": "1e3ed575",
   "metadata": {},
   "outputs": [],
   "source": [
    "#first_day = pybank_df[1:2]\n"
   ]
  },
  {
   "cell_type": "code",
   "execution_count": 76,
   "id": "19f2a238",
   "metadata": {},
   "outputs": [],
   "source": [
    "#first_day2 = pybank_df.iloc[0:2]\n",
    "#first_day2 = pybank_df.loc[0:2]\n"
   ]
  },
  {
   "cell_type": "code",
   "execution_count": 77,
   "id": "ff524c4a",
   "metadata": {},
   "outputs": [],
   "source": [
    "best_df = pybank_df.sort_values(\"Profit/Losses\",ascending=False)\n",
    "#best_df"
   ]
  },
  {
   "cell_type": "code",
   "execution_count": 78,
   "id": "02c48003",
   "metadata": {},
   "outputs": [],
   "source": [
    "best_df = best_df.reset_index(drop=True)\n",
    "#best_df"
   ]
  },
  {
   "cell_type": "code",
   "execution_count": 79,
   "id": "75a3bebb",
   "metadata": {},
   "outputs": [],
   "source": [
    "best_day = best_df.loc[0,:]\n",
    "#best_day"
   ]
  },
  {
   "cell_type": "code",
   "execution_count": 80,
   "id": "ed5c0b6a",
   "metadata": {},
   "outputs": [
    {
     "name": "stdout",
     "output_type": "stream",
     "text": [
      "Greatest Increase in ProfitsDate              Mar-13\n",
      "Profit/Losses    1141840\n",
      "Name: 0, dtype: object\n"
     ]
    }
   ],
   "source": [
    "print(\"Greatest Increase in Profits\" + str(best_day))"
   ]
  },
  {
   "cell_type": "code",
   "execution_count": 81,
   "id": "b6632786",
   "metadata": {},
   "outputs": [],
   "source": [
    "worst_day = best_df.loc[len(best_df)-1,:]\n",
    "#worst_day"
   ]
  },
  {
   "cell_type": "code",
   "execution_count": 82,
   "id": "04420e06",
   "metadata": {},
   "outputs": [
    {
     "name": "stdout",
     "output_type": "stream",
     "text": [
      "Greaest Decrease in ProfitsDate               Dec-10\n",
      "Profit/Losses    -1194133\n",
      "Name: 85, dtype: object\n"
     ]
    }
   ],
   "source": [
    "print(\"Greaest Decrease in Profits\" + str(worst_day))"
   ]
  },
  {
   "cell_type": "code",
   "execution_count": null,
   "id": "69bfe5a8",
   "metadata": {},
   "outputs": [],
   "source": [
    "with open('readme.txt', 'w') as f:\n",
    "    f.write('readme')"
   ]
  }
 ],
 "metadata": {
  "kernelspec": {
   "display_name": "Python 3 (ipykernel)",
   "language": "python",
   "name": "python3"
  },
  "language_info": {
   "codemirror_mode": {
    "name": "ipython",
    "version": 3
   },
   "file_extension": ".py",
   "mimetype": "text/x-python",
   "name": "python",
   "nbconvert_exporter": "python",
   "pygments_lexer": "ipython3",
   "version": "3.9.13"
  }
 },
 "nbformat": 4,
 "nbformat_minor": 5
}
